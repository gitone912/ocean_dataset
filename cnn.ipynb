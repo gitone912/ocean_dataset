{
 "cells": [
  {
   "cell_type": "code",
   "execution_count": 1,
   "metadata": {},
   "outputs": [
    {
     "name": "stderr",
     "output_type": "stream",
     "text": [
      "2023-10-22 09:47:46.742769: I tensorflow/core/platform/cpu_feature_guard.cc:182] This TensorFlow binary is optimized to use available CPU instructions in performance-critical operations.\n",
      "To enable the following instructions: AVX2 FMA, in other operations, rebuild TensorFlow with the appropriate compiler flags.\n"
     ]
    }
   ],
   "source": [
    "import os\n",
    "import cv2\n",
    "import numpy as np\n",
    "from sklearn.model_selection import train_test_split\n",
    "from tensorflow.keras.models import Sequential\n",
    "from tensorflow.keras.layers import Conv2D, MaxPooling2D, Flatten, Dense\n",
    "from tensorflow.keras.utils import to_categorical"
   ]
  },
  {
   "cell_type": "code",
   "execution_count": 2,
   "metadata": {},
   "outputs": [],
   "source": [
    "# Function to load and preprocess images\n",
    "def load_images(directory, label):\n",
    "    images = []\n",
    "    labels = []\n",
    "    for filename in os.listdir(directory):\n",
    "        if filename.endswith(\".jpg\") or filename.endswith(\".png\"):\n",
    "            img = cv2.imread(os.path.join(directory, filename))\n",
    "            img = cv2.cvtColor(img, cv2.COLOR_BGR2RGB)  # Convert to RGB\n",
    "            img = cv2.resize(img, (128, 128))  # Resize image to 128x128 pixels\n",
    "            images.append(img)\n",
    "            labels.append(label)\n",
    "    return images, labels"
   ]
  },
  {
   "cell_type": "code",
   "execution_count": 3,
   "metadata": {},
   "outputs": [],
   "source": [
    "clean_images, clean_labels = load_images(\"cleaned\", label=0)"
   ]
  },
  {
   "cell_type": "code",
   "execution_count": 4,
   "metadata": {},
   "outputs": [],
   "source": [
    "dirty_images, dirty_labels = load_images(\"polluted\", label=1)"
   ]
  },
  {
   "cell_type": "code",
   "execution_count": 5,
   "metadata": {},
   "outputs": [],
   "source": [
    "all_images = clean_images + dirty_images\n",
    "all_labels = clean_labels + dirty_labels\n"
   ]
  },
  {
   "cell_type": "code",
   "execution_count": 6,
   "metadata": {},
   "outputs": [],
   "source": [
    "all_images = np.array(all_images)\n",
    "all_labels = np.array(all_labels)"
   ]
  },
  {
   "cell_type": "code",
   "execution_count": 7,
   "metadata": {},
   "outputs": [],
   "source": [
    "X_train, X_test, y_train, y_test = train_test_split(all_images, all_labels, test_size=0.2, random_state=42)\n"
   ]
  },
  {
   "cell_type": "code",
   "execution_count": 8,
   "metadata": {},
   "outputs": [],
   "source": [
    "X_train = X_train / 255.0\n",
    "X_test = X_test / 255.0"
   ]
  },
  {
   "cell_type": "code",
   "execution_count": 9,
   "metadata": {},
   "outputs": [],
   "source": [
    "# Convert labels to one-hot encoding\n",
    "y_train = to_categorical(y_train)\n",
    "y_test = to_categorical(y_test)"
   ]
  },
  {
   "cell_type": "code",
   "execution_count": 10,
   "metadata": {},
   "outputs": [],
   "source": [
    "# Build the CNN model\n",
    "model = Sequential()\n",
    "model.add(Conv2D(32, (3, 3), activation='relu', input_shape=(128, 128, 3)))\n",
    "model.add(MaxPooling2D((2, 2)))\n",
    "model.add(Conv2D(64, (3, 3), activation='relu'))\n",
    "model.add(MaxPooling2D((2, 2)))\n",
    "model.add(Conv2D(128, (3, 3), activation='relu'))\n",
    "model.add(MaxPooling2D((2, 2)))\n",
    "model.add(Flatten())\n",
    "model.add(Dense(128, activation='relu'))\n",
    "model.add(Dense(2, activation='softmax'))"
   ]
  },
  {
   "cell_type": "code",
   "execution_count": 11,
   "metadata": {},
   "outputs": [],
   "source": [
    "model.compile(optimizer='adam', loss='categorical_crossentropy', metrics=['accuracy'])\n"
   ]
  },
  {
   "cell_type": "code",
   "execution_count": 12,
   "metadata": {},
   "outputs": [
    {
     "name": "stdout",
     "output_type": "stream",
     "text": [
      "Epoch 1/10\n",
      "7/7 [==============================] - 4s 498ms/step - loss: 0.5782 - accuracy: 0.7723 - val_loss: 0.2914 - val_accuracy: 0.8571\n",
      "Epoch 2/10\n",
      "7/7 [==============================] - 3s 441ms/step - loss: 0.2430 - accuracy: 0.8616 - val_loss: 0.1885 - val_accuracy: 0.8929\n",
      "Epoch 3/10\n",
      "7/7 [==============================] - 3s 478ms/step - loss: 0.1727 - accuracy: 0.9241 - val_loss: 0.1555 - val_accuracy: 0.9286\n",
      "Epoch 4/10\n",
      "7/7 [==============================] - 3s 444ms/step - loss: 0.1373 - accuracy: 0.9643 - val_loss: 0.2978 - val_accuracy: 0.9107\n",
      "Epoch 5/10\n",
      "7/7 [==============================] - 3s 447ms/step - loss: 0.1360 - accuracy: 0.9330 - val_loss: 0.3879 - val_accuracy: 0.9107\n",
      "Epoch 6/10\n",
      "7/7 [==============================] - 3s 434ms/step - loss: 0.1284 - accuracy: 0.9420 - val_loss: 0.1275 - val_accuracy: 0.9286\n",
      "Epoch 7/10\n",
      "7/7 [==============================] - 3s 413ms/step - loss: 0.1084 - accuracy: 0.9554 - val_loss: 0.1543 - val_accuracy: 0.8929\n",
      "Epoch 8/10\n",
      "7/7 [==============================] - 3s 423ms/step - loss: 0.0908 - accuracy: 0.9509 - val_loss: 0.2226 - val_accuracy: 0.9286\n",
      "Epoch 9/10\n",
      "7/7 [==============================] - 3s 429ms/step - loss: 0.0799 - accuracy: 0.9554 - val_loss: 0.1689 - val_accuracy: 0.9286\n",
      "Epoch 10/10\n",
      "7/7 [==============================] - 3s 415ms/step - loss: 0.0725 - accuracy: 0.9777 - val_loss: 0.2563 - val_accuracy: 0.8929\n"
     ]
    },
    {
     "data": {
      "text/plain": [
       "<keras.src.callbacks.History at 0x7fbb8286acb0>"
      ]
     },
     "execution_count": 12,
     "metadata": {},
     "output_type": "execute_result"
    }
   ],
   "source": [
    "model.fit(X_train, y_train, epochs=10, batch_size=32, validation_data=(X_test, y_test))\n"
   ]
  },
  {
   "cell_type": "code",
   "execution_count": 13,
   "metadata": {},
   "outputs": [
    {
     "name": "stdout",
     "output_type": "stream",
     "text": [
      "2/2 [==============================] - 0s 101ms/step - loss: 0.2563 - accuracy: 0.8929\n",
      "Test Accuracy: 89.29%\n"
     ]
    }
   ],
   "source": [
    "loss, accuracy = model.evaluate(X_test, y_test)\n",
    "print(f\"Test Accuracy: {accuracy * 100:.2f}%\")"
   ]
  },
  {
   "cell_type": "code",
   "execution_count": 15,
   "metadata": {},
   "outputs": [
    {
     "name": "stdout",
     "output_type": "stream",
     "text": [
      "1/1 [==============================] - 0s 36ms/step\n",
      "The image is predicted to be clean water.\n",
      "Confidence Scores: Clean Water: 0.9698660373687744, Dirty Water: 0.03013400360941887\n"
     ]
    }
   ],
   "source": [
    "\n",
    "test_image = cv2.imread(\"/Users/pranaymishra/Desktop/ml_practice/ocean_dataset/cleaned/3.jpg\")\n",
    "test_image = cv2.cvtColor(test_image, cv2.COLOR_BGR2RGB)\n",
    "test_image = cv2.resize(test_image, (128, 128))  \n",
    "test_image = test_image / 255.0\n",
    "test_image = np.reshape(test_image, (1, 128, 128, 3))\n",
    "prediction = model.predict(test_image)\n",
    "predicted_class = np.argmax(prediction)\n",
    "if predicted_class == 0:\n",
    "    print(\"The image is predicted to be clean water.\")\n",
    "else:\n",
    "    print(\"The image is predicted to be dirty water.\")\n",
    "print(f\"Confidence Scores: Clean Water: {prediction[0][0]}, Dirty Water: {prediction[0][1]}\")\n"
   ]
  },
  {
   "cell_type": "code",
   "execution_count": null,
   "metadata": {},
   "outputs": [],
   "source": []
  }
 ],
 "metadata": {
  "kernelspec": {
   "display_name": "Python 3",
   "language": "python",
   "name": "python3"
  },
  "language_info": {
   "codemirror_mode": {
    "name": "ipython",
    "version": 3
   },
   "file_extension": ".py",
   "mimetype": "text/x-python",
   "name": "python",
   "nbconvert_exporter": "python",
   "pygments_lexer": "ipython3",
   "version": "3.10.11"
  }
 },
 "nbformat": 4,
 "nbformat_minor": 2
}
